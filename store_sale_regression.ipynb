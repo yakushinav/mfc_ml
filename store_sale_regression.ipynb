{
  "nbformat": 4,
  "nbformat_minor": 0,
  "metadata": {
    "colab": {
      "provenance": []
    },
    "kernelspec": {
      "name": "python3",
      "display_name": "Python 3"
    },
    "language_info": {
      "name": "python"
    }
  },
  "cells": [
    {
      "cell_type": "markdown",
      "source": [
        "Набор данных\n",
        "\n",
        "Nasdaq Data Link имеет большой набор данных для институциональных инвесторов, финтех-компаний и индивидуальных пользователей. \n",
        "\n",
        "Бесплатные и платные данные, доступ к которым можно получить через один из следующих API-интерфейсов Nasdaq Data Link:\n",
        "- Streaming API для данных в реальном времени\n",
        "- REST API для данных в реальном времени или с задержкой\n",
        "- REST API для данных временных рядов\n",
        "- REST API для данных таблиц\n",
        "\n",
        "Взяты данные стоимости акций компании SAP c 03.09.2009 по 03.08.2019.\n",
        "\n",
        "Проведете аналогичные действия для других наборов данных:\n",
        "- [Rossmann Store Sales](https://www.kaggle.com/competitions/rossmann-store-sales/data)\n",
        "- [Behavior of the urban traffic of the city of Sao Paulo in Brazil Data Set](http://archive.ics.uci.edu/ml/datasets/Behavior+of+the+urban+traffic+of+the+city+of+Sao+Paulo+in+Brazil)\n",
        "- [ISTANBUL STOCK EXCHANGE Data Set](http://archive.ics.uci.edu/ml/datasets/ISTANBUL+STOCK+EXCHANGE)"
      ],
      "metadata": {
        "id": "lIiIHIFqyh2g"
      }
    },
    {
      "cell_type": "code",
      "execution_count": null,
      "metadata": {
        "id": "7DFiV1a1xiGS"
      },
      "outputs": [],
      "source": [
        "#подключаем библиотеки\n",
        "import numpy as np\n",
        "import pandas as pd\n",
        "\n",
        "%matplotlib inline\n",
        "import matplotlib.pyplot as plt\n",
        "import seaborn as sns\n",
        "\n",
        "\n",
        "\n",
        "# Import metrics package from sklearn for statistical analysis\n",
        "from sklearn import metrics\n",
        "from sklearn.metrics import explained_variance_score\n",
        "\n",
        "\n",
        "# Import package for splitting data set\n",
        "from sklearn.model_selection import train_test_split\n",
        "\n",
        "# Import package for linear model\n",
        "from sklearn.linear_model import LinearRegression\n",
        "\n",
        "from sklearn.svm import SVR"
      ]
    },
    {
      "cell_type": "code",
      "source": [
        "url='https://raw.githubusercontent.com/yakushinav/mfc_ml/main/sap_stock.csv'\n",
        "data=pd.read_csv(url,index_col='Date')\n",
        "\n",
        "print(data.head())"
      ],
      "metadata": {
        "id": "L5cHgUm0yj9H"
      },
      "execution_count": null,
      "outputs": []
    },
    {
      "cell_type": "code",
      "source": [
        "# типы данных столбцов\n",
        "data.info()"
      ],
      "metadata": {
        "id": "NFh9f_242-m3"
      },
      "execution_count": null,
      "outputs": []
    },
    {
      "cell_type": "code",
      "source": [
        "#описательная статистика\n",
        "data.describe()"
      ],
      "metadata": {
        "id": "hjBOK3zB3Dq_"
      },
      "execution_count": null,
      "outputs": []
    },
    {
      "cell_type": "markdown",
      "source": [
        "# Выберем множество значимых признаков\n",
        "\n",
        "Мы используем дневную цену закрытия Close в качестве значения для прогнозирования, поэтому мы можем отбросить другие признаки.\n",
        "\n",
        "Столбец «Close» имеет числовой тип данных\n",
        "«Date» является столбцом индекса и содержит значения даты и времени."
      ],
      "metadata": {
        "id": "KnK0ot5u3NcG"
      }
    },
    {
      "cell_type": "code",
      "source": [
        "# Создадим новый набор данных\n",
        "df = pd.DataFrame(data, columns=['Close'])\n",
        "\n",
        "# Заменим индекс в форме даты на числовой индекс\n",
        "df = df.reset_index()\n",
        "\n",
        "# Проверим на пропущенные значения\n",
        "print(df.isna().values.any())\n",
        "\n",
        "print(df.head())"
      ],
      "metadata": {
        "id": "aXnNanBU34-f"
      },
      "execution_count": null,
      "outputs": []
    },
    {
      "cell_type": "markdown",
      "source": [
        "Анализ данных\n",
        "\n",
        "Когда мы смотрим на изменение цены с течением времени на графике зависимости цены закрытия от времени, мы увидим, что цена постоянно увеличивается с течением времени, и мы также можем оценить, что тренд может быть линейным."
      ],
      "metadata": {
        "id": "A-bLFJP55fqP"
      }
    },
    {
      "cell_type": "code",
      "source": [
        "# Подключаем пакет для работы с данным\n",
        "import matplotlib.dates as mdates\n",
        "\n",
        "years = mdates.YearLocator() # возьмем каждый год\n",
        "yearsFmt = mdates.DateFormatter('%Y') # Формат отображения года\n",
        "\n",
        "# Создаем график\n",
        "fig, ax = plt.subplots()\n",
        "ax.plot(df['Date'], df['Close'])\n",
        "\n",
        "ax.xaxis.set_major_locator(years)\n",
        "ax.xaxis.set_major_formatter(yearsFmt)\n",
        "\n",
        "plt.title('Динамика цены закрытия [2009 - 2019]', fontsize=16)\n",
        "plt.xlabel('Date', fontsize=14)\n",
        "plt.ylabel('Closing Stock Price in $', fontsize=14)\n",
        "fig.autofmt_xdate()\n",
        "\n",
        "plt.show()"
      ],
      "metadata": {
        "id": "RHel1YrK5xGu"
      },
      "execution_count": null,
      "outputs": []
    },
    {
      "cell_type": "markdown",
      "source": [
        "# Линейная регрессия\n",
        "\n",
        "Наши данные содержат только одну независимую переменную (X), которая представляет дату и зависимую переменную (Y), которую мы пытаемся предсказать, — это цена акций. Чтобы найти линию близкую к точкам данных,  мы можем использовать простую линейную регрессию.\n",
        "\n",
        "Линия наилучшего соответствия может быть описана с помощью уравнения\n",
        "$$\n",
        "Y=\\beta_0+\\beta_1X\n",
        "$$\n",
        "\n",
        "где\n",
        "\n",
        "  - Y прогнозируемое значение зависимой переменной\n",
        "  - $\\beta_0$ y-перечечение\n",
        "  - $\\beta_1$ наклон\n",
        "  - X значение независимой переменной\n",
        "\n",
        "Цель состоит в том, чтобы найти такие коэффициенты чтобы ошибка, которая представляет собой разницу между каждой точкой в наборе данных и соответствующим прогнозируемым значением, выводимым моделью была минимальна."
      ],
      "metadata": {
        "id": "lNLZIDWG6U5v"
      }
    },
    {
      "cell_type": "code",
      "source": [
        "# Разбиваем выборку\n",
        "train, test = train_test_split(df, test_size=0.20)"
      ],
      "metadata": {
        "id": "QWaraLl67G7G"
      },
      "execution_count": null,
      "outputs": []
    },
    {
      "cell_type": "code",
      "source": [
        "\n",
        "# Reshape index column to 2D array for .fit() method\n",
        "X_train = np.array(train.index).reshape(-1, 1)\n",
        "y_train = train['Close']\n",
        "\n",
        "# Создаем модель машинного обучения\n",
        "model = LinearRegression()\n",
        "model.fit(X_train, y_train)\n",
        "\n",
        "# Коэффициенты\n",
        "print(model.coef_, model.intercept_)"
      ],
      "metadata": {
        "id": "XKYElLD87L01"
      },
      "execution_count": null,
      "outputs": []
    },
    {
      "cell_type": "code",
      "source": [
        "\n",
        "\n",
        "# График исходных данных и модели\n",
        "plt.figure(1, figsize=(16,10))\n",
        "plt.title('Linear Regression | Price vs Time')\n",
        "plt.scatter(X_train, y_train, edgecolor='w', label='Actual Price')\n",
        "plt.plot(X_train, model.predict(X_train), color='r', label='Predicted Price')\n",
        "plt.xlabel('Integer Date')\n",
        "plt.ylabel('Stock Price')\n",
        "plt.legend()\n",
        "plt.show()"
      ],
      "metadata": {
        "id": "Mff-14hI7Re3"
      },
      "execution_count": null,
      "outputs": []
    },
    {
      "cell_type": "markdown",
      "source": [
        "# Предсказание"
      ],
      "metadata": {
        "id": "a3AUpOqn7d2W"
      }
    },
    {
      "cell_type": "code",
      "source": [
        "# Тестовые данные\n",
        "X_test = np.array(test.index).reshape(-1, 1)\n",
        "y_test = test['Close']\n",
        "\n",
        "# Предсказание\n",
        "y_pred = model.predict(X_test)\n",
        "\n",
        "test['Prediction']=y_pred\n"
      ],
      "metadata": {
        "id": "8wrMTvd07ieY"
      },
      "execution_count": null,
      "outputs": []
    },
    {
      "cell_type": "code",
      "source": [
        "# График\n",
        "fig, ax = plt.subplots()\n",
        "test[0:25].plot(x='Date', y=['Close', 'Prediction'], kind='bar', ax=ax)\n",
        "\n",
        "plt.title('Сравнение предсказанных и тестовых данных (первые 25 точек)', fontsize=16)\n",
        "\n",
        "# \n",
        "\n",
        "# Set x label\n",
        "plt.xlabel('Date', fontsize=14)\n",
        "\n",
        "# Set y label\n",
        "plt.ylabel('Stock Price in $', fontsize=14)\n",
        "\n",
        "# Show plot\n",
        "plt.show()"
      ],
      "metadata": {
        "id": "L56jRkxp72g2"
      },
      "execution_count": null,
      "outputs": []
    },
    {
      "cell_type": "code",
      "source": [
        "# Добавим предсказанный тренд\n",
        "df['Prediction'] = model.predict(np.array(df.index).reshape(-1, 1))\n",
        "print(df.head())\n",
        "\n",
        "# Рассчет ошибок MAE, MSE, RMSE\n",
        "print('Mean Absolute Error:', metrics.mean_absolute_error(y_test, y_pred))  \n",
        "print('Mean Squared Error:', metrics.mean_squared_error(y_test, y_pred))  \n",
        "print('Root Mean Squared Error:', np.sqrt(metrics.mean_squared_error(y_test, y_pred)))\n",
        "print('R2: ', metrics.r2_score(y_test, y_pred))\n",
        "print(explained_variance_score(y_test, y_pred))\n"
      ],
      "metadata": {
        "id": "gZ9LG81S8kFu"
      },
      "execution_count": null,
      "outputs": []
    },
    {
      "cell_type": "markdown",
      "source": [
        "# Множественная линейная регрессия"
      ],
      "metadata": {
        "id": "L123dOLr-wHT"
      }
    },
    {
      "cell_type": "code",
      "source": [
        "# Создадим новый набор данных\n",
        "df = pd.DataFrame(data, columns=['Open','High','Low','Close'])\n",
        "\n",
        "# Проверим на пропущенные значения\n",
        "print(df.isna().values.any())\n",
        "\n",
        "df=df.dropna()\n",
        "\n",
        "# Проверим на пропущенные значения\n",
        "print(df.isna().values.any())\n",
        "\n"
      ],
      "metadata": {
        "id": "lJHx1Q6G-zUN"
      },
      "execution_count": null,
      "outputs": []
    },
    {
      "cell_type": "code",
      "source": [
        "# Разделим выборку\n",
        "train, test = train_test_split(df, test_size=0.20)\n",
        "\n",
        "X=train[['Open','High','Low']] \n",
        "y=train['Close']\n",
        "\n",
        "lm = LinearRegression()\n",
        "lm.fit(X, y)\n",
        "\n",
        "X_test=test[['Open','High','Low']] \n",
        "y_test=test['Close']\n",
        "\n",
        "y_pred=lm.predict(X_test)\n",
        "\n",
        "# Рассчет ошибок MAE, MSE, RMSE\n",
        "print('Mean Absolute Error:', metrics.mean_absolute_error(y_test, y_pred))  \n",
        "print('Mean Squared Error:', metrics.mean_squared_error(y_test, y_pred))  \n",
        "print('Root Mean Squared Error:', np.sqrt(metrics.mean_squared_error(y_test, y_pred)))\n",
        "print('R2: ', metrics.r2_score(y_test, y_pred))\n",
        "print(explained_variance_score(y_test, y_pred))"
      ],
      "metadata": {
        "id": "K7QzipzhAYfN"
      },
      "execution_count": null,
      "outputs": []
    },
    {
      "cell_type": "markdown",
      "source": [
        "# Метод опорных векторов\n",
        "\n",
        "Метод опорных векторов (англ. SVM, support vector machine) — набор схожих алгоритмов обучения с учителем, использующихся для задач классификации и регрессионного анализа. Принадлежит семейству линейных классификаторов и может также рассматриваться как частный случай регуляризации по Тихонову. Особым свойством метода опорных векторов является непрерывное уменьшение эмпирической ошибки классификации и увеличение зазора, поэтому метод также известен как метод классификатора с максимальным зазором.\n",
        "\n",
        "Радиальная базисная функция (РБФ) — функция из набора однотипных радиальных функций, используемых как функция активации в одном слое искусственной нейронной сети или как-либо ещё, в зависимости от контекста. Радиальная функция — это любая вещественная функция, значение которой зависит только от расстояния до начала координат."
      ],
      "metadata": {
        "id": "uEXZ2MpeBzBH"
      }
    },
    {
      "cell_type": "code",
      "source": [
        "from sklearn.svm import SVR\n",
        "# Создадим новый набор данных\n",
        "df = pd.DataFrame(data, columns=['Close'])\n",
        "\n",
        "# Заменим индекс в форме даты на числовой индекс\n",
        "df = df.reset_index()\n",
        "\n",
        "# Разделим выборку\n",
        "train, test = train_test_split(df, test_size=0.20)\n",
        "\n",
        "# Подготовим данные\n",
        "X_train = np.array(train.index).reshape(-1, 1)\n",
        "y_train = train['Close']\n",
        "\n",
        "X_test=np.array(test.index).reshape(-1, 1)\n",
        "y_test=test['Close']\n",
        "\n",
        "svr_rbf = SVR(kernel=\"rbf\", C=100, gamma=0.1, epsilon=0.1)\n",
        "svr_lin = SVR(kernel=\"linear\", C=100, gamma=\"auto\")\n",
        "svr_poly = SVR(kernel=\"poly\", C=100, gamma=\"auto\", degree=3, epsilon=0.1, coef0=1)\n",
        "\n",
        "svr_rbf.fit(X_train, y_train)\n",
        "#svr_lin.fit(X_train, y_train)\n",
        "#svr_poly.fit(X_train, y_train)\n",
        "\n",
        "# Train set graph\n",
        "plt.figure(1, figsize=(16,10))\n",
        "plt.title('RBF | Price vs Time')\n",
        "plt.scatter(X_test, y_test, edgecolor='w', label='Actual Price')\n",
        "plt.scatter(X_test, svr_rbf.predict(X_test), edgecolor='r', label='RBF')\n",
        "#plt.scatter(X_test, svr_lin.predict(X_test), edgecolor='r', label='Linear')\n",
        "#plt.scatter(X_test, svr_poly.predict(X_test), edgecolor='r', label='poly')\n",
        "\n",
        "plt.xlabel('Integer Date')\n",
        "plt.ylabel('Stock Price')\n",
        "plt.legend()\n",
        "plt.show()\n"
      ],
      "metadata": {
        "id": "5RB9LsiVB2au"
      },
      "execution_count": null,
      "outputs": []
    }
  ]
}