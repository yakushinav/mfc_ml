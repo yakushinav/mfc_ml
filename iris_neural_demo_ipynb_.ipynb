{
  "nbformat": 4,
  "nbformat_minor": 0,
  "metadata": {
    "colab": {
      "provenance": []
    },
    "kernelspec": {
      "name": "python3",
      "display_name": "Python 3"
    },
    "language_info": {
      "name": "python"
    }
  },
  "cells": [
    {
      "cell_type": "markdown",
      "source": [
        "# IRIS-Flower-clustering\n",
        "\n",
        "[Ирисы Фишера](https://ru.wikipedia.org/wiki/%D0%98%D1%80%D0%B8%D1%81%D1%8B_%D0%A4%D0%B8%D1%88%D0%B5%D1%80%D0%B0)\n",
        "Этот проект представляет собой построение искусственных нейронных сетей для классификации ирисов. \n",
        "\n",
        "\n",
        "В качестве задания вам предлагается повторить данные действия для наборов данных (можно выбрать, что больше понравится, но лучше сделать для всех)\n",
        "- [User Knowledge Modeling Data Set](http://archive.ics.uci.edu/ml/datasets/User+Knowledge+Modeling)\n",
        "- [Blood Transfusion Service Center Data Set](http://archive.ics.uci.edu/ml/datasets/Blood+Transfusion+Service+Center)\n",
        "- [Somerville Happiness Survey Data Set](http://archive.ics.uci.edu/ml/datasets/Somerville+Happiness+Survey)\n",
        "- [Wine Quality Data Set](https://archive.ics.uci.edu/ml/datasets/wine+quality)\n",
        "\n"
      ],
      "metadata": {
        "id": "R-PJzM_fWCB-"
      }
    },
    {
      "cell_type": "code",
      "source": [
        "# Подключаем библиотеки\n",
        "import pandas as pd # Работа с набором данных\n",
        "import numpy as np # Линейная алгебра\n",
        "\n",
        "# разделение выборки\n",
        "from sklearn.model_selection import train_test_split\n"
      ],
      "metadata": {
        "id": "UXmCE0CDWmKV"
      },
      "execution_count": null,
      "outputs": []
    },
    {
      "cell_type": "code",
      "source": [
        "# читаем данные\n",
        "url = 'https://github.com/yakushinav/mfc_ml/raw/main/iris.csv'\n",
        "data = pd.read_csv(url)\n",
        "\n",
        "# Выделим признаки \n",
        "feature_names = ['sepal_length','sepal_width','petal_length','petal_width']\n",
        "# Выделим классификационные метки\n",
        "names = data['species'].unique()\n",
        "\n",
        "# Выделим матрицу признаков и вектор результата\n",
        "X = data[feature_names]\n",
        "y = data['species']\n"
      ],
      "metadata": {
        "id": "8NK87MDXYz1P"
      },
      "execution_count": null,
      "outputs": []
    },
    {
      "cell_type": "markdown",
      "source": [
        "# Tensorflow\n",
        "\n",
        "TensorFlow — открытая программная библиотека для машинного обучения, разработанная компанией Google для решения задач построения и тренировки нейронной сети с целью автоматического нахождения и классификации образов, достигая качества человеческого восприятия. Применяется как для исследований, так и для разработки собственных продуктов Google. Основной API для работы с библиотекой реализован для Python, также существуют реализации для R, C Sharp, C++, Haskell, Java, Go и Swift.\n",
        "\n",
        "- В TensorFlow модели представлены с помощью графов — математических абстракций, которые состоят из вершин и путей между ними. Граф можно сравнить со схемой дорог между разными точками. В программировании это обычно нужно при решении «маршрутных» задач и при создании нейронных сетей.\n",
        "- TensorFlow работает с тензорами — многомерными структурами данных в векторном, то есть направленном пространстве. Они используются в линейной алгебре и физике. Отсюда происходит название библиотеки. С помощью тензоров описываются пути графа, а вершины — это математические операции.\n",
        "- Вычисления в TensorFlow выражаются как потоки данных через граф. Это означает, что информация «движется» по графу, передается по путям от вершины к вершине.\n",
        "- Библиотека может работать на мощностях обычного центрального процессора (CPU) или задействовать мощности графического процессора (GPU). Режим переключается в коде. Существует специальный тензорный процессор TPU, созданный разработчиками библиотеки, — им можно воспользоваться через облачные сервисы Google.\n",
        "\n",
        "Keras — это библиотека для языка программирования Python, которая предназначена для глубокого машинного обучения. Она позволяет быстрее создавать и настраивать модели — схемы, по которым распространяется и подсчитывается информация при обучении. Но сложных математических вычислений Keras не выполняет и используется как надстройка над другими библиотеками.\n",
        "\n",
        "Keras с версии 2.3 — это надстройка над библиотекой TensorFlow, которая нужна для машинного обучения. TensorFlow выполняет все низкоуровневые вычисления и преобразования и служит своеобразным движком, математическим ядром. Keras же управляет моделями, по которым проходят вычисления.\n",
        "\n",
        "До версии 2.3 Keras мог использовать в качестве движка вычислительные библиотеки Theano или CNTK. Но в новых версиях поддержка прекратилась, теперь библиотека работает только с TensorFlow."
      ],
      "metadata": {
        "id": "KP6GeUg7hYS7"
      }
    },
    {
      "cell_type": "code",
      "source": [
        "from sklearn.preprocessing import LabelEncoder,OneHotEncoder, StandardScaler\n",
        "\n",
        "# Так как у нас 3 класса, то необходимо сделать y трехмерным\n",
        "enc = OneHotEncoder()\n",
        "Y = enc.fit_transform(data[['species']]).toarray()\n",
        "\n",
        "# Выполняем нормализацию данных среднее=0 дисперсия=1 \n",
        "# это необходимо для успешного обучения нейронной сети\n",
        "scaler = StandardScaler()\n",
        "X_scaled = scaler.fit_transform(X)\n",
        "\n",
        "# Разделим выборку на обучающую и тестовую\n",
        "X_train, X_test, Y_train, Y_test = train_test_split(\n",
        "    X_scaled, Y, test_size=0.2, random_state=2)\n"
      ],
      "metadata": {
        "id": "pBEkLBPwhGm8"
      },
      "execution_count": null,
      "outputs": []
    },
    {
      "cell_type": "code",
      "source": [
        "from keras.models import Sequential\n",
        "from keras.layers import Dense\n",
        "from keras.callbacks import TensorBoard\n",
        "\n",
        "\n",
        "# Параметры модели\n",
        "input_dim=X.shape[1]\n",
        "output_dim=len(names)\n",
        "nodes=8\n",
        "name='model_one'\n",
        "\n",
        "# Создаем модель\n",
        "# Тип модели: прямого распространения\n",
        "model = Sequential(name=name)\n",
        "# Внутренний скрытый слой\n",
        "model.add(Dense(nodes, input_dim=input_dim, activation='relu'))\n",
        "# Выходной слой\n",
        "model.add(Dense(output_dim, activation='softmax'))\n",
        "\n",
        "# Компилируем модель,устанавливаем функцию ошибки, оптимизатор и метрику качества\n",
        "model.compile(loss='categorical_crossentropy', \n",
        "                      optimizer='adam', \n",
        "                      metrics=['accuracy'])"
      ],
      "metadata": {
        "id": "HK6gi_RQpBp5"
      },
      "execution_count": null,
      "outputs": []
    },
    {
      "cell_type": "code",
      "source": [
        "# Описание модели в текстовом виде\n",
        "print(model.summary())"
      ],
      "metadata": {
        "id": "pdzREa7awF_j"
      },
      "execution_count": null,
      "outputs": []
    },
    {
      "cell_type": "code",
      "source": [
        "# Визуализация модели\n",
        "from keras.utils.vis_utils import plot_model\n",
        "\n",
        "plot_model(model, to_file='model_plot.png', show_shapes=True, show_layer_names=True)\n"
      ],
      "metadata": {
        "id": "K-KUFLr14I4C"
      },
      "execution_count": null,
      "outputs": []
    },
    {
      "cell_type": "code",
      "source": [
        "# Визуализация модели\n",
        "\n",
        "!pip3 install keras-visualizer\n",
        "from keras_visualizer import visualizer  \n",
        "\n",
        "visualizer(model, file_name='graph', file_format='png', view=True, settings=None)"
      ],
      "metadata": {
        "id": "dgbdgcGp5k9f"
      },
      "execution_count": null,
      "outputs": []
    },
    {
      "cell_type": "code",
      "source": [
        "#TensorBoard — это набор веб-приложений для проверки и понимания структуры и производительности нейронной сети.\n",
        "\n",
        "cb = TensorBoard(log_dir='./Graph', histogram_freq=1, write_graph=True, write_images=True)\n",
        "history_callback = model.fit(X_train, Y_train,\n",
        "                                 batch_size=5,\n",
        "                                 epochs=10,\n",
        "                                 verbose=1,\n",
        "                                 validation_data=(X_test, Y_test),\n",
        "                                 callbacks=[cb])\n",
        "score = model.evaluate(X_test, Y_test, verbose=0)\n",
        "print('Test loss:', score[0])\n",
        "print('Test accuracy:', score[1])\n"
      ],
      "metadata": {
        "id": "AbMW3-8hwa8x"
      },
      "execution_count": null,
      "outputs": []
    },
    {
      "cell_type": "code",
      "source": [
        "%load_ext tensorboard\n",
        "%tensorboard --logdir Graph"
      ],
      "metadata": {
        "id": "ssIwDULt99UJ"
      },
      "execution_count": null,
      "outputs": []
    },
    {
      "cell_type": "code",
      "source": [
        "import matplotlib.pyplot as plt\n",
        "fig, (ax1, ax2) = plt.subplots(2, figsize=(8, 6))\n",
        "\n",
        "val_accurady = history_callback.history['val_accuracy']\n",
        "val_loss = history_callback.history['val_loss']\n",
        "ax1.plot(val_accurady, label=name)\n",
        "ax2.plot(val_loss, label=name)\n",
        "    \n",
        "ax1.set_ylabel('validation accuracy')\n",
        "ax2.set_ylabel('validation loss')\n",
        "ax2.set_xlabel('epochs')\n",
        "ax1.legend()\n",
        "ax2.legend();"
      ],
      "metadata": {
        "id": "qu-YiSt72W9s"
      },
      "execution_count": null,
      "outputs": []
    },
    {
      "cell_type": "markdown",
      "source": [
        "# ROC кривая\n",
        "\n",
        "Кривая ошибок или ROC-кривая – графичекая характеристика качества бинарного классификатора, зависимость доли верных положительных классификаций от доли ложных положительных классификаций при варьировании порога решающего правила. Преимуществом ROC-кривой является её инвариантность относительно отношения цены ошибки I и II рода.\n",
        "\n",
        "Ошибка первого рода (𝛼-ошибка, ложноположительное заключение) — ситуация, когда отвергнута верная нулевая гипотеза (об отсутствии связи между явлениями или искомого эффекта).\n",
        "\n",
        "Ошибка второго рода (β-ошибка, ложноотрицательное заключение) — ситуация, когда принята неверная нулевая гипотеза.\n",
        "\n",
        "Задача классификации состоит в том, чтобы относить ранее неизвестные объекты к тому или иному классу. Примером такой задачи может быть диагностика болезни — заболел пациент (положительный результат) или нет (отрицательный результат). Тогда в результате классификации может наблюдаться четыре различных ситуации:\n",
        "\n",
        "- истинно-положительный результат (true-positive, TP) — пациент больной, диагноз положительный;\n",
        "- ложно-положительный результат (false-positive, FP) — пациент здоров, диагноз положительный;\n",
        "- истинно-отрицательный результат (true-negative, TN) — пациент здоров, диагноз отрицательный;\n",
        "- ложно-отрицательный результат (false-negative, FN) — пациент больной, диагноз отрицательный.\n",
        "\n",
        "введем две метрики:\n",
        "\n",
        "True positive rate: $TPR=\\frac{TP}{TP+FN}$\n",
        "\n",
        "False positive rate: $FPR=\\frac {FP}{TN+FP}$.\n",
        "\n",
        "TPR полностью совпадает с полнотой, и показывает долю верно предсказанных классов у объектов, относящихся к положительному классу.\n",
        "\n",
        "FPR — это доля неправильно предсказанных классов среди объектов отрицательного класса.\n",
        "\n",
        "Так как TPR и FPR считались для фиксированного порога $\\mu \\in [0,1]$ то их можно представить в виде функций от аргумента $\\mu$: \n",
        "$$TPR=TPR(\\mu),FPR=FPR(\\mu )$$. \n",
        "\n",
        "При этом обе функции монотонно возрастают от 0 до 1, а значит определена функция:\n",
        "$$ ROC=TPR(FPR)$$\n",
        "\n",
        "(более формально: \n",
        "$ROC(x)=TPR(FPR^{-1}(x)),x\\in [0,1]$).\n",
        "\n",
        "Площадь под ROC-кривой AUC (Area Under Curve) является агрегированной характеристикой качества классификации, не зависящей от соотношения цен ошибок. Чем больше значение AUC, тем «лучше» модель классификации. Данный показатель часто используется для сравнительного анализа нескольких моделей классификации."
      ],
      "metadata": {
        "id": "l8T_8Dxd3FL6"
      }
    },
    {
      "cell_type": "code",
      "source": [
        "from sklearn.metrics import roc_curve, auc\n",
        "\n",
        "plt.figure(figsize=(10, 10))\n",
        "plt.plot([0, 1], [0, 1], 'k--')\n",
        "\n",
        "Y_pred = model.predict(X_test)\n",
        "fpr, tpr, threshold = roc_curve(Y_test.ravel(), Y_pred.ravel())\n",
        "    \n",
        "plt.plot(fpr, tpr, label='{}, AUC = {:.3f}'.format(model, auc(fpr, tpr)))\n",
        "plt.xlabel('False positive rate')\n",
        "plt.ylabel('True positive rate')\n",
        "plt.title('ROC curve')\n",
        "plt.legend();"
      ],
      "metadata": {
        "id": "CtzbcGYv3G7x"
      },
      "execution_count": null,
      "outputs": []
    },
    {
      "cell_type": "markdown",
      "source": [
        "# Генетический алгоритм классификации\n",
        "\n",
        "[sklearn-genetic](https://github.com/manuel-calzolari/sklearn-genetic) — модуль выбора генетических признаков для scikit-learn."
      ],
      "metadata": {
        "id": "-5sI0CXHRnem"
      }
    },
    {
      "cell_type": "code",
      "source": [
        "!pip install sklearn-genetic\n",
        "from genetic_selection import GeneticSelectionCV\n",
        "from sklearn import datasets, linear_model\n",
        "\n",
        "iris = datasets.load_iris()\n",
        "\n",
        "# Some noisy data not correlated\n",
        "e = np.random.uniform(0, 0.2, size=(len(iris.data), 30))\n",
        "\n",
        "x = np.hstack((iris.data, e))\n",
        "Y = iris.target\n",
        "\n",
        "# Разделим выборку на обучающую и тестовую\n",
        "X_train, X_test, Y_train, Y_test = train_test_split(\n",
        "    x, Y, test_size=0.2, random_state=2)"
      ],
      "metadata": {
        "id": "Qemzi_C0RrzT"
      },
      "execution_count": null,
      "outputs": []
    },
    {
      "cell_type": "code",
      "source": [
        "estimators = linear_model.LogisticRegression(solver=\"liblinear\", multi_class=\"ovr\")\n",
        "\n",
        "selectors = GeneticSelectionCV(estimators, cv=6, verbose=1, scoring=\"accuracy\", max_features=6, n_population=60,  crossover_proba=0.6, mutation_proba=0.2, n_generations=50,crossover_independent_proba=0.6, mutation_independent_proba=0.06, tournament_size=4,n_gen_no_change=20, caching=True, n_jobs=-2)\n"
      ],
      "metadata": {
        "id": "fb6-a-BOSEMB"
      },
      "execution_count": null,
      "outputs": []
    },
    {
      "cell_type": "code",
      "source": [
        "selectors = selectors.fit(X_train, Y_train)"
      ],
      "metadata": {
        "id": "-50Z7fbXSOb7"
      },
      "execution_count": null,
      "outputs": []
    },
    {
      "cell_type": "code",
      "source": [
        "#метрики\n",
        "from sklearn import metrics\n",
        "# результатом работы являются \"лушие\" особи, для которых будет производится классификация\n",
        "print(selectors.support_)\n",
        "\n",
        "# Предсказания для отобранных признаков\n",
        "y_predict_ga = selectors.predict(X_test)\n",
        "print('accuracy (точность) классификатора Генетичекие алгоритмы',\"{:.3f}\".format(metrics.accuracy_score(y_predict_ga,Y_test)))\n",
        "\n",
        "# матрица ошибок\n",
        "print(\"матрица ошибок\")\n",
        "print(metrics.confusion_matrix(y_predict_ga,Y_test))\n",
        "\n"
      ],
      "metadata": {
        "id": "CBt9m6stTdPe"
      },
      "execution_count": null,
      "outputs": []
    }
  ]
}